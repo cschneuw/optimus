{
 "cells": [
  {
   "cell_type": "code",
   "execution_count": 1,
   "id": "f2e668c2",
   "metadata": {},
   "outputs": [],
   "source": [
    "from pytorch_tabular import model_sweep\n",
    "from pytorch_tabular.config import DataConfig, OptimizerConfig, TrainerConfig"
   ]
  },
  {
   "cell_type": "code",
   "execution_count": 2,
   "id": "e9364b2f",
   "metadata": {},
   "outputs": [
    {
     "name": "stdout",
     "output_type": "stream",
     "text": [
      "False\n",
      "0\n"
     ]
    }
   ],
   "source": [
    "# Basic imports\n",
    "import os\n",
    "import sys\n",
    "import time\n",
    "import pickle\n",
    "from itertools import product\n",
    "import warnings\n",
    "\n",
    "# System path modification\n",
    "sys.path.insert(0, '..')\n",
    "\n",
    "# Data handling\n",
    "import pandas as pd\n",
    "import numpy as np\n",
    "\n",
    "# Machine learning imports\n",
    "from sklearn.impute import SimpleImputer, KNNImputer\n",
    "from sklearn.linear_model import (\n",
    "    LinearRegression, Lasso, LassoCV, MultiTaskLasso, MultiTaskLassoCV,\n",
    "    ElasticNet, ElasticNetCV, MultiTaskElasticNet, MultiTaskElasticNetCV\n",
    ")\n",
    "from sklearn.svm import SVR\n",
    "from sklearn.neighbors import KNeighborsRegressor\n",
    "from sklearn.tree import DecisionTreeRegressor\n",
    "from sklearn.ensemble import GradientBoostingRegressor, RandomForestRegressor\n",
    "from sklearn.neural_network import MLPRegressor\n",
    "from sklearn.multioutput import MultiOutputRegressor\n",
    "from sklearn.pipeline import Pipeline\n",
    "from sklearn.preprocessing import StandardScaler, MinMaxScaler\n",
    "from sklearn.metrics import mean_squared_error, mean_absolute_error, r2_score, explained_variance_score\n",
    "\n",
    "from sklearn.cross_decomposition import PLSRegression\n",
    "from sklearn.inspection import permutation_importance\n",
    "\n",
    "# Custom modules\n",
    "from src.train import *\n",
    "from src.functions import *\n",
    "from src.plots import *\n",
    "from src.dataset import *\n",
    "from src.multixgboost import *\n",
    "from src.wrapper import *\n",
    "\n",
    "# Visualizatiokn \n",
    "import matplotlib.pyplot as plt\n",
    "import seaborn as sns\n",
    "\n",
    "# Deep learning and machine learning specific \n",
    "import torch\n",
    "from pytorch_tabnet.tab_model import TabNetRegressor\n",
    "import xgboost as xgb\n",
    "import shap\n",
    "\n",
    "# Ignore warnings\n",
    "warnings.filterwarnings(\"ignore\")\n",
    "\n",
    "# Print CUDA availability for PyTorch\n",
    "print(torch.cuda.is_available())\n",
    "print(torch.cuda.device_count())"
   ]
  },
  {
   "cell_type": "markdown",
   "id": "6b4a7d81",
   "metadata": {},
   "source": [
    "## Load data "
   ]
  },
  {
   "cell_type": "code",
   "execution_count": 3,
   "id": "cd912e8e",
   "metadata": {},
   "outputs": [],
   "source": [
    "data = load_pickle_data_palettes()\n",
    "\n",
    "# Unpack data\n",
    "df_X, df_y, df_all, df_FinalCombination = data[\"df_X\"], data[\"df_y\"], data[\"df_all\"], data[\"df_FinalCombination\"]\n",
    "df_select_features, miss_mask = data[\"df_select_features\"], data[\"miss_mask\"]\n",
    "\n",
    "# Unpack feature selections\n",
    "select_RNA, select_CSF, select_gene, select_MRIthickness, select_MRIvolume, select_PET = df_select_features.T.values\n",
    "\n",
    "# Unpack colormaps\n",
    "full_palette, gender_palette, dx_palette = data[\"colormaps\"].values()\n",
    "\n",
    "df_X = df_X[miss_mask]\n",
    "df_y = df_y[miss_mask]\n",
    "df_all = df_all[miss_mask]"
   ]
  },
  {
   "cell_type": "markdown",
   "id": "83e013fd",
   "metadata": {},
   "source": [
    "# Train-Test Split"
   ]
  },
  {
   "cell_type": "code",
   "execution_count": 4,
   "id": "46a1beb8",
   "metadata": {},
   "outputs": [],
   "source": [
    "idx_train = list(df_X.isna().any(axis=1))\n",
    "idx_test = list(~df_X.isna().any(axis=1))\n",
    "\n",
    "set_intersect_rid = set(df_all[idx_train].RID).intersection(set(df_all[idx_test].RID))\n",
    "intersect_rid_idx = df_all.RID.isin(set_intersect_rid)\n",
    "\n",
    "for i, bool_test in enumerate(idx_test): \n",
    "    if intersect_rid_idx.iloc[i] & bool_test:\n",
    "        idx_test[i] = False\n",
    "        idx_train[i] = True\n",
    "        \n",
    "df_X[[\"APOE_epsilon2\", \"APOE_epsilon3\", \"APOE_epsilon4\"]] = df_X[[\"APOE_epsilon2\", \"APOE_epsilon3\", \"APOE_epsilon4\"]].astype(\"category\")\n",
    "\n",
    "df_X_train = df_X.loc[idx_train]\n",
    "df_X_test = df_X.loc[idx_test]\n",
    "\n",
    "df_y_train = df_y.loc[idx_train]\n",
    "df_y_test = df_y.loc[idx_test]\n",
    "\n",
    "c_train = df_all[[\"AGE\", \"PTGENDER\", \"PTEDUCAT\"]].iloc[idx_train]\n",
    "c_test = df_all[[\"AGE\", \"PTGENDER\", \"PTEDUCAT\"]].iloc[idx_test]"
   ]
  },
  {
   "cell_type": "code",
   "execution_count": null,
   "id": "cfe71ecc",
   "metadata": {},
   "outputs": [
    {
     "data": {
      "text/plain": [
       "array(['APOE_epsilon2', 'APOE_epsilon3', 'APOE_epsilon4', None, None,\n",
       "       None, None, None, None, None, None, None, None, None, None, None,\n",
       "       None, None, None, None, None, None, None, None, None, None, None,\n",
       "       None, None, None, None, None, None, None, None, None, None, None,\n",
       "       None, None, None, None, None, None, None, None, None, None, None,\n",
       "       None, None, None, None, None, None, None, None, None, None, None,\n",
       "       None, None, None, None, None, None, None, None, None, None, None,\n",
       "       None, None, None, None, None, None, None, None, None, None, None,\n",
       "       None, None, None, None, None, None, None, None, None, None, None,\n",
       "       None, None, None, None, None, None, None, None, None, None, None,\n",
       "       None, None, None, None, None, None, None, None, None, None, None,\n",
       "       None, None, None, None, None, None, None, None, None, None, None,\n",
       "       None, None, None, None, None, None, None, None, None, None, None,\n",
       "       None, None, None, None, None, None, None, None, None, None, None,\n",
       "       None, None, None, None, None, None, None, None, None, None, None,\n",
       "       None, None, None, None, None, None, None, None, None, None, None,\n",
       "       None, None, None, None, None, None, None, None, None, None, None,\n",
       "       None, None, None, None, None, None, None, None, None, None, None,\n",
       "       None, None, None, None, None, None, None, None], dtype=object)"
      ]
     },
     "execution_count": 5,
     "metadata": {},
     "output_type": "execute_result"
    }
   ],
   "source": [
    "select_gene"
   ]
  },
  {
   "cell_type": "code",
   "execution_count": null,
   "id": "c59e6d8d",
   "metadata": {},
   "outputs": [
    {
     "ename": "NameError",
     "evalue": "name 'num_col_names' is not defined",
     "output_type": "error",
     "traceback": [
      "\u001b[0;31m---------------------------------------------------------------------------\u001b[0m",
      "\u001b[0;31mNameError\u001b[0m                                 Traceback (most recent call last)",
      "Cell \u001b[0;32mIn[6], line 8\u001b[0m\n\u001b[1;32m      1\u001b[0m \u001b[38;5;28;01mfrom\u001b[39;00m\u001b[38;5;250m \u001b[39m\u001b[38;5;21;01mpytorch_tabular\u001b[39;00m\u001b[38;5;21;01m.\u001b[39;00m\u001b[38;5;21;01mconfig\u001b[39;00m\u001b[38;5;250m \u001b[39m\u001b[38;5;28;01mimport\u001b[39;00m DataConfig, OptimizerConfig, TrainerConfig\n\u001b[1;32m      4\u001b[0m data_config \u001b[38;5;241m=\u001b[39m DataConfig(\n\u001b[1;32m      5\u001b[0m     target\u001b[38;5;241m=\u001b[39m[\n\u001b[1;32m      6\u001b[0m         \u001b[38;5;124m\"\u001b[39m\u001b[38;5;124mtarget\u001b[39m\u001b[38;5;124m\"\u001b[39m\n\u001b[1;32m      7\u001b[0m     ],\n\u001b[0;32m----> 8\u001b[0m     continuous_cols\u001b[38;5;241m=\u001b[39m\u001b[43mnum_col_names\u001b[49m,\n\u001b[1;32m      9\u001b[0m     categorical_cols\u001b[38;5;241m=\u001b[39mcat_col_names,\n\u001b[1;32m     10\u001b[0m )\n\u001b[1;32m     11\u001b[0m trainer_config \u001b[38;5;241m=\u001b[39m TrainerConfig(\n\u001b[1;32m     12\u001b[0m     batch_size\u001b[38;5;241m=\u001b[39m\u001b[38;5;241m32\u001b[39m,\n\u001b[1;32m     13\u001b[0m     max_epochs\u001b[38;5;241m=\u001b[39m\u001b[38;5;241m50\u001b[39m,\n\u001b[0;32m   (...)\u001b[0m\n\u001b[1;32m     19\u001b[0m     progress_bar\u001b[38;5;241m=\u001b[39m\u001b[38;5;124m\"\u001b[39m\u001b[38;5;124mnone\u001b[39m\u001b[38;5;124m\"\u001b[39m\n\u001b[1;32m     20\u001b[0m )\n\u001b[1;32m     21\u001b[0m optimizer_config \u001b[38;5;241m=\u001b[39m OptimizerConfig()\n",
      "\u001b[0;31mNameError\u001b[0m: name 'num_col_names' is not defined"
     ]
    }
   ],
   "source": [
    "data_config = DataConfig(\n",
    "    target=[\n",
    "        \"ADNI_MEM\",\n",
    "        \"ADNI_EF\",\n",
    "        \"ADNI_VS\",\n",
    "        \"ADNI_LAN\"\n",
    "    ],\n",
    "    continuous_cols=select_MRIthickness+select_CSF+select_RNA,\n",
    "    categorical_cols=select_gene\n",
    ",\n",
    ")\n",
    "trainer_config = TrainerConfig(\n",
    "    batch_size=32,\n",
    "    max_epochs=50,\n",
    "    early_stopping=\"valid_accuracy\",\n",
    "    early_stopping_mode=\"max\",\n",
    "    early_stopping_patience=3,\n",
    "    checkpoints=\"valid_accuracy\",\n",
    "    load_best=True,\n",
    "    progress_bar=\"none\"\n",
    ")\n",
    "optimizer_config = OptimizerConfig()\n"
   ]
  },
  {
   "cell_type": "code",
   "execution_count": null,
   "id": "2b40c930",
   "metadata": {},
   "outputs": [
    {
     "ename": "NameError",
     "evalue": "name 'train' is not defined",
     "output_type": "error",
     "traceback": [
      "\u001b[0;31m---------------------------------------------------------------------------\u001b[0m",
      "\u001b[0;31mNameError\u001b[0m                                 Traceback (most recent call last)",
      "Cell \u001b[0;32mIn[5], line 3\u001b[0m\n\u001b[1;32m      1\u001b[0m sweep_df, best_model \u001b[38;5;241m=\u001b[39m model_sweep(\n\u001b[1;32m      2\u001b[0m                             task\u001b[38;5;241m=\u001b[39m\u001b[38;5;124m\"\u001b[39m\u001b[38;5;124mclassification\u001b[39m\u001b[38;5;124m\"\u001b[39m,\n\u001b[0;32m----> 3\u001b[0m                             train\u001b[38;5;241m=\u001b[39m\u001b[43mtrain\u001b[49m,\n\u001b[1;32m      4\u001b[0m                             test\u001b[38;5;241m=\u001b[39mvalid,\n\u001b[1;32m      5\u001b[0m                             data_config\u001b[38;5;241m=\u001b[39mdata_config,\n\u001b[1;32m      6\u001b[0m                             optimizer_config\u001b[38;5;241m=\u001b[39moptimizer_config,\n\u001b[1;32m      7\u001b[0m                             trainer_config\u001b[38;5;241m=\u001b[39mtrainer_config,\n\u001b[1;32m      8\u001b[0m                             model_list\u001b[38;5;241m=\u001b[39m\u001b[38;5;124m\"\u001b[39m\u001b[38;5;124mhigh_memory\u001b[39m\u001b[38;5;124m\"\u001b[39m,\n\u001b[1;32m      9\u001b[0m                             verbose\u001b[38;5;241m=\u001b[39m\u001b[38;5;28;01mFalse\u001b[39;00m \u001b[38;5;66;03m# Make True if you want to log metrics and params each trial\u001b[39;00m\n\u001b[1;32m     10\u001b[0m                         )\n",
      "\u001b[0;31mNameError\u001b[0m: name 'train' is not defined"
     ]
    }
   ],
   "source": [
    "data_config = \n",
    "optimizer_config = \n",
    "trainer_config = \n",
    "\n",
    "sweep_df, best_model = model_sweep(\n",
    "                            task=\"regression\",\n",
    "                            train=df_X_train,\n",
    "                            test=df_X_test,\n",
    "                            data_config=data_config,\n",
    "                            optimizer_config=optimizer_config,\n",
    "                            trainer_config=trainer_config,\n",
    "                            model_list=\"high_memory\",\n",
    "                            verbose=False # Make True if you want to log metrics and params each trial\n",
    "                        )"
   ]
  }
 ],
 "metadata": {
  "kernelspec": {
   "display_name": "optimus",
   "language": "python",
   "name": "python3"
  },
  "language_info": {
   "codemirror_mode": {
    "name": "ipython",
    "version": 3
   },
   "file_extension": ".py",
   "mimetype": "text/x-python",
   "name": "python",
   "nbconvert_exporter": "python",
   "pygments_lexer": "ipython3",
   "version": "3.13.2"
  }
 },
 "nbformat": 4,
 "nbformat_minor": 5
}
